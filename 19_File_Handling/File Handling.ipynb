{
 "cells": [
  {
   "cell_type": "code",
   "execution_count": 1,
   "id": "041a6746",
   "metadata": {},
   "outputs": [
    {
     "name": "stdout",
     "output_type": "stream",
     "text": [
      " Volume in drive C has no label.\n",
      " Volume Serial Number is 6EDA-329D\n",
      "\n",
      " Directory of C:\\Users\\Admin\n",
      "\n",
      "05/02/2023  06:47 PM             1,690  1.ipynb\n",
      "11/16/2022  02:33 PM           346,543  a=5 ml.ipynb\n",
      "09/09/2024  10:38 PM    <DIR>          .\n",
      "11/04/2022  11:54 PM    <DIR>          ..\n",
      "11/05/2023  11:34 AM    <DIR>          .anaconda\n",
      "03/28/2023  03:31 PM               175 .angular-config.json\n",
      "03/05/2024  04:45 PM               486 .bash_history\n",
      "04/22/2024  12:13 PM    <DIR>          .cache\n",
      "03/06/2024  01:07 AM    <DIR>          .conda\n",
      "11/04/2022  09:16 PM                25 .condarc\n",
      "11/04/2022  09:16 PM    <DIR>          .continuum\n",
      "02/20/2024  11:49 AM    <DIR>          .cufflinks\n",
      "12/18/2023  06:58 PM    <DIR>          .dotnet\n",
      "05/27/2024  03:20 PM                62 .gitattributes\n",
      "05/27/2024  04:13 PM               231 .gitconfig\n",
      "04/23/2024  10:11 PM             1,029 .gitignore\n",
      "02/04/2024  10:09 AM    <DIR>          .idlerc\n",
      "09/09/2024  09:39 PM    <DIR>          .ipynb_checkpoints\n",
      "11/04/2022  09:24 PM    <DIR>          .ipython\n",
      "06/23/2024  10:46 AM    <DIR>          .jupyter\n",
      "10/19/2023  04:49 PM    <DIR>          .keras\n",
      "03/05/2024  03:17 PM                20 .lesshst\n",
      "05/28/2024  04:52 PM    <DIR>          .matplotlib\n",
      "04/22/2024  10:07 PM    <DIR>          .nbi\n",
      "04/23/2024  07:03 PM    <DIR>          .netbeans-derby\n",
      "03/24/2023  11:39 AM               176 .packettracer\n",
      "08/02/2023  03:20 PM    <DIR>          .redhat\n",
      "03/05/2024  04:54 PM    <DIR>          .ssh\n",
      "12/18/2023  06:55 PM    <DIR>          .templateengine\n",
      "06/18/2024  11:09 AM    <DIR>          .VirtualBox\n",
      "07/17/2023  10:20 AM    <DIR>          .vscode\n",
      "06/19/2024  05:34 PM               216 _netrc\n",
      "05/24/2024  10:56 AM               391 1.cpp\n",
      "05/24/2024  10:56 AM            44,667 1.exe\n",
      "02/19/2024  04:13 PM               589 1ds.ipynb\n",
      "04/18/2024  11:33 PM             2,664 2.cpp\n",
      "04/18/2024  10:42 AM            67,279 2.exe\n",
      "10/27/2022  05:14 AM    <DIR>          3D Objects\n",
      "02/19/2024  07:17 PM            21,689 5 ds numpy2.ipynb\n",
      "05/25/2023  08:56 AM           168,406 a1b.ipynb\n",
      "02/17/2024  02:49 PM           215,774 a2 ml.ipynb\n",
      "09/25/2023  02:12 PM               757 a-3.ipynb\n",
      "04/11/2023  02:43 PM            17,091 AI_3.1_TEXT_Tokenize.ipynb\n",
      "02/22/2023  04:47 PM             7,040 AI_3.2_STOPWORDS.ipynb\n",
      "05/21/2023  10:21 AM            13,727 AI_3.3_TF_IDF.ipynb\n",
      "04/11/2023  02:57 PM             5,687 AI_3.4_POS_TAGING.ipynb\n",
      "05/17/2023  05:52 PM                18 amazon_search\n",
      "11/05/2023  11:34 AM    <DIR>          anaconda3\n",
      "11/16/2022  11:43 AM            95,473 assi-5.ipynb\n",
      "11/12/2022  06:43 PM           237,241 assignment -1 practice.ipynb\n",
      "11/05/2022  09:29 PM           151,339 assignment 2.ipynb\n",
      "11/06/2022  10:27 AM           396,759 assignment -3.ipynb\n",
      "11/06/2022  10:27 AM           396,759 assignment -3-Copy1.ipynb\n",
      "11/17/2022  10:15 AM           149,270 assignment no 1.ipynb\n",
      "11/16/2022  03:14 PM           190,547 assignment on clustering.ipynb\n",
      "05/22/2023  01:23 AM             3,654 Asstar.ipynb\n",
      "05/23/2023  06:40 AM             7,699 Astar.ipynb\n",
      "10/09/2023  01:33 PM           442,128 autoencoder_fraud.h5\n",
      "03/24/2023  11:58 AM    <DIR>          Cisco Packet Tracer 8.2.0\n",
      "11/04/2022  11:59 PM    <DIR>          Contacts\n",
      "05/26/2023  06:45 AM           185,304 data model,preprocessing,heart and data files 4.ipynb\n",
      "10/07/2023  01:38 PM            21,740 datatype in python.ipynb\n",
      "02/01/2024  09:51 AM             2,697 demo ds_002.ipynb\n",
      "02/14/2024  11:17 PM             1,419 demo.ipynb\n",
      "09/08/2024  10:19 PM    <DIR>          Desktop\n",
      "10/09/2023  03:45 PM           270,173 DL A-4.ipynb\n",
      "11/06/2023  03:21 PM            58,061 DL_ASSIGNMENT_2 Feed forward Neural Network .ipynb\n",
      "11/06/2023  09:27 PM            76,959 DL_ASSIGNMENT_3 cnn using fashion_mnist.ipynb\n",
      "11/06/2023  10:11 PM             5,405 DL_ASSIGNMENT_3 Image classification model .ipynb\n",
      "11/05/2023  04:27 PM            10,162 DL_ASSIGNMENT_5 Implement the Continuous Bag of Words (CBOW) Model.ipynb\n",
      "11/05/2023  05:18 PM            71,459 DL_Assignment_6 Transfer_Learning_with_VGG16_for_Flower_classification.ipynb\n",
      "08/07/2024  06:01 PM    <DIR>          Documents\n",
      "09/09/2024  02:40 PM    <DIR>          Downloads\n",
      "03/28/2023  04:12 PM               697 DSBDA PROJECT.ipynb\n",
      "09/09/2024  10:37 PM                18 error.txt\n",
      "09/09/2024  04:38 PM            29,837 exception handling.ipynb\n",
      "05/19/2023  05:15 PM             7,614 facebook dataset.ipynb\n",
      "11/04/2022  11:59 PM    <DIR>          Favorites\n",
      "09/09/2024  10:38 PM            21,645 File Handling.ipynb\n",
      "09/05/2024  12:46 PM            15,760 Functions.ipynb\n",
      "04/26/2024  04:55 PM               589 imdb.ipynb\n",
      "04/29/2024  02:57 PM        66,212,309 IMDB-Dataset.csv\n",
      "05/22/2023  11:44 PM                 1 index.html\n",
      "09/09/2024  10:36 PM                 2 ineuron.txt\n",
      "11/04/2022  11:59 PM    <DIR>          Links\n",
      "09/12/2023  11:58 PM             3,536 loan approval.ipynb\n",
      "02/16/2024  11:45 PM            21,305 m.ipynb\n",
      "11/09/2022  10:29 AM           249,746 maiin assignment -5.ipynb\n",
      "01/03/2024  07:24 PM           636,815 matplotlib .ipynb\n",
      "03/05/2024  09:22 AM    <DIR>          miniconda3\n",
      "11/05/2022  10:30 PM           215,774 ml assign 2.ipynb\n",
      "02/17/2024  02:45 PM            76,434 ml assignment 5.ipynb\n",
      "11/16/2022  01:06 PM           168,191 ML Assignment -6.ipynb\n",
      "11/06/2022  04:41 PM            16,660 ML Assignment no-4.ipynb\n",
      "02/17/2024  12:28 PM            10,535 mongo 1.ipynb\n",
      "05/20/2022  09:03 PM    <DIR>          MPLABXProjects\n",
      "11/04/2022  11:59 PM    <DIR>          Music\n",
      "11/16/2022  02:29 PM               567 mydata.csv\n",
      "03/21/2023  03:56 PM    <DIR>          new\n",
      "04/20/2023  10:54 AM             3,969 N-Queen program local_search.ipynb\n",
      "09/10/2024  10:14 AM    <DIR>          OneDrive\n",
      "07/23/2024  11:05 PM    <DIR>          Pictures\n",
      "02/17/2024  06:29 PM            81,551 players.csv\n",
      "02/22/2023  07:21 PM             6,859 pos tagging.ipynb\n",
      "02/09/2023  11:23 AM             4,036 pos_tagging.ipynb\n",
      "02/20/2024  05:00 PM    <DIR>          Postman\n",
      "05/02/2023  06:07 PM             4,345 practice tic tac toe.ipynb\n",
      "05/15/2023  06:04 PM             5,044 practice_hill_climbing.ipynb\n",
      "11/04/2022  11:59 PM    <DIR>          Saved Games\n",
      "03/07/2024  12:39 PM    <DIR>          scikit_learn_data\n",
      "01/03/2024  07:24 PM         1,965,120 Seaborn .ipynb\n",
      "01/03/2024  07:24 PM           354,068 Seaborn1.ipynb\n",
      "05/12/2023  10:46 PM    <DIR>          seaborn-data\n",
      "11/04/2022  11:59 PM    <DIR>          Searches\n",
      "03/21/2023  03:55 PM    <DIR>          sharim\n",
      "09/09/2024  09:39 PM                70 test.txt\n",
      "09/09/2024  10:12 PM                 7 test1.txt\n",
      "09/09/2024  10:14 PM                23 test2.txt\n",
      "09/09/2024  10:32 PM                 0 test3.txt\n",
      "05/04/2023  07:08 PM             6,632 tic tac toe game.ipynb\n",
      "03/15/2024  03:44 PM    <DIR>          Tracing\n",
      "11/12/2022  09:14 PM            59,982 Untitled.ipynb\n",
      "11/12/2022  09:36 PM               957 Untitled1.ipynb\n",
      "11/13/2022  11:23 AM           160,467 Untitled10.ipynb\n",
      "11/06/2022  03:26 PM           721,969 Untitled11.ipynb\n",
      "11/12/2022  11:14 PM           679,433 Untitled12.ipynb\n",
      "10/08/2023  06:17 PM            11,238 Untitled13.ipynb\n",
      "10/08/2023  11:18 PM             8,518 Untitled14.ipynb\n",
      "10/08/2023  08:26 PM             1,282 Untitled15.ipynb\n",
      "11/16/2022  02:25 PM           224,107 Untitled16.ipynb\n",
      "10/08/2023  12:06 AM             4,109 Untitled17.ipynb\n",
      "11/09/2022  09:33 AM             1,927 Untitled18.ipynb\n",
      "10/08/2023  11:30 AM             8,667 Untitled19.ipynb\n",
      "11/16/2022  04:43 PM           173,424 Untitled2.ipynb\n",
      "10/11/2023  10:22 PM            34,681 Untitled20.ipynb\n",
      "11/16/2022  05:18 PM           112,516 Untitled21.ipynb\n",
      "11/16/2022  05:38 PM           105,387 Untitled22.ipynb\n",
      "11/16/2022  05:52 PM           101,942 Untitled23.ipynb\n",
      "11/16/2022  09:18 PM           315,851 Untitled24.ipynb\n",
      "11/16/2022  10:14 PM               589 Untitled25.ipynb\n",
      "11/16/2022  11:53 PM           540,019 Untitled26.ipynb\n",
      "11/17/2022  10:40 AM            75,602 Untitled27.ipynb\n",
      "10/07/2023  07:17 PM             9,501 Untitled28.ipynb\n",
      "02/16/2023  10:53 AM             3,603 Untitled29.ipynb\n",
      "11/12/2022  07:17 PM            50,824 Untitled3.ipynb\n",
      "02/22/2023  02:38 PM             1,284 Untitled30.ipynb\n",
      "05/04/2023  07:59 PM               589 Untitled31.ipynb\n",
      "05/02/2023  12:06 PM             8,365 Untitled32.ipynb\n",
      "10/11/2023  01:35 PM             1,907 Untitled33.ipynb\n",
      "05/15/2023  10:23 PM               589 Untitled34.ipynb\n",
      "05/19/2023  05:13 PM               589 Untitled35.ipynb\n",
      "05/16/2023  10:18 PM             1,373 Untitled36.ipynb\n",
      "05/17/2023  06:32 PM             3,264 Untitled37.ipynb\n",
      "05/18/2023  09:17 AM               589 Untitled38.ipynb\n",
      "05/18/2023  10:31 AM             1,037 Untitled39.ipynb\n",
      "11/13/2022  09:45 AM           374,689 Untitled4.ipynb\n",
      "05/19/2023  09:43 AM             1,779 Untitled40.ipynb\n",
      "05/19/2023  10:09 AM             2,062 Untitled41.ipynb\n",
      "05/19/2023  02:15 PM             3,811 Untitled42.ipynb\n",
      "05/19/2023  03:59 PM             3,073 Untitled43.ipynb\n",
      "05/19/2023  04:45 PM           132,406 Untitled44.ipynb\n",
      "05/20/2023  05:01 PM       145,022,623 Untitled45.ipynb\n",
      "05/20/2023  06:44 PM             6,093 Untitled46.ipynb\n",
      "05/21/2023  01:03 AM             2,990 Untitled47.ipynb\n",
      "05/21/2023  11:30 AM             4,461 Untitled48.ipynb\n",
      "05/21/2023  07:26 PM             3,176 Untitled49.ipynb\n",
      "11/02/2023  11:02 PM            58,444 Untitled5.ipynb\n",
      "11/02/2023  11:17 AM            49,513 Untitled50.ipynb\n",
      "10/28/2023  07:12 PM            19,901 Untitled51.ipynb\n",
      "05/22/2023  11:31 AM            22,749 Untitled52.ipynb\n",
      "05/22/2023  10:03 PM            11,137 Untitled53.ipynb\n",
      "05/22/2023  10:41 PM             5,904 Untitled54.ipynb\n",
      "05/22/2023  11:02 PM             4,347 Untitled55.ipynb\n",
      "05/22/2023  11:20 PM             5,310 Untitled56.ipynb\n",
      "05/22/2023  11:35 PM             3,672 Untitled57.ipynb\n",
      "11/04/2023  10:02 PM             5,753 Untitled58.ipynb\n",
      "05/23/2023  06:56 AM            17,365 Untitled59.ipynb\n",
      "11/05/2022  02:23 PM            60,463 Untitled6.ipynb\n",
      "05/23/2023  06:27 PM               589 Untitled60.ipynb\n",
      "05/23/2023  06:29 PM                72 Untitled61.ipynb\n",
      "05/23/2023  06:55 PM           716,974 Untitled62.ipynb\n",
      "05/24/2023  12:02 AM            37,437 Untitled63.ipynb\n",
      "11/03/2023  11:44 PM             4,349 Untitled64.ipynb\n",
      "10/10/2023  10:00 AM             5,627 Untitled65.ipynb\n",
      "05/25/2023  01:04 PM           124,449 Untitled66.ipynb\n",
      "05/25/2023  03:30 PM            96,090 Untitled67.ipynb\n",
      "05/26/2023  06:13 AM           259,552 Untitled68.ipynb\n",
      "09/11/2023  05:17 PM             2,861 Untitled69.ipynb\n",
      "11/05/2022  08:51 PM           319,022 Untitled7.ipynb\n",
      "10/19/2023  08:48 PM            24,576 Untitled70.ipynb\n",
      "10/20/2023  06:02 PM            46,372 Untitled71.ipynb\n",
      "10/31/2023  07:03 PM             9,618 Untitled72.ipynb\n",
      "10/24/2023  10:23 PM            80,244 Untitled73.ipynb\n",
      "10/29/2023  12:06 AM            17,582 Untitled74.ipynb\n",
      "10/29/2023  10:02 PM            32,702 Untitled75.ipynb\n",
      "10/27/2023  09:09 PM            34,041 Untitled76.ipynb\n",
      "10/27/2023  11:59 PM            29,587 Untitled77.ipynb\n",
      "11/05/2023  09:33 AM            15,614 Untitled78.ipynb\n",
      "10/31/2023  10:44 PM             5,766 Untitled79.ipynb\n",
      "11/05/2022  07:24 PM            86,605 Untitled8.ipynb\n",
      "11/01/2023  11:55 PM             1,707 Untitled80.ipynb\n",
      "11/05/2023  09:54 AM             9,684 Untitled81.ipynb\n",
      "11/05/2023  09:57 AM            13,074 Untitled82.ipynb\n",
      "11/05/2023  10:07 AM            22,795 Untitled83.ipynb\n",
      "11/05/2023  10:10 AM                72 Untitled84.ipynb\n",
      "11/05/2023  01:24 PM             3,690 Untitled85.ipynb\n",
      "11/05/2023  10:48 PM             7,694 Untitled86.ipynb\n",
      "11/06/2023  10:11 PM            58,182 Untitled87.ipynb\n",
      "11/06/2023  10:43 PM               589 Untitled88.ipynb\n",
      "11/07/2023  07:19 AM               589 Untitled89.ipynb\n",
      "11/05/2022  08:57 PM            49,292 Untitled9.ipynb\n",
      "03/08/2024  09:47 PM             6,212 Untitled90.ipynb\n",
      "03/08/2024  09:49 PM               490 Untitled91.ipynb\n",
      "04/29/2024  03:32 PM            39,906 Untitled92.ipynb\n",
      "06/23/2024  10:46 AM                72 Untitled93.ipynb\n",
      "09/06/2024  11:48 AM             3,272 Untitled94.ipynb\n",
      "09/09/2024  09:39 PM                72 Untitled95.ipynb\n",
      "08/07/2024  06:04 PM    <DIR>          Videos\n",
      "06/18/2024  11:09 AM    <DIR>          VirtualBox VMs\n",
      "01/03/2024  07:24 PM           592,951 visualization.ipynb\n",
      "05/19/2023  11:34 PM         1,293,421 vitualization practice.ipynb\n",
      "05/18/2023  09:27 AM             6,233 web scraping.ipynb\n",
      "05/18/2023  09:30 AM           458,299 webbb.ipynb\n",
      "             178 File(s)    227,576,366 bytes\n",
      "              45 Dir(s)  60,603,256,832 bytes free\n"
     ]
    }
   ],
   "source": [
    "%ls"
   ]
  },
  {
   "cell_type": "code",
   "execution_count": 2,
   "id": "a10b6dc3",
   "metadata": {},
   "outputs": [
    {
     "data": {
      "text/plain": [
       "'C:\\\\Users\\\\Admin'"
      ]
     },
     "execution_count": 2,
     "metadata": {},
     "output_type": "execute_result"
    }
   ],
   "source": [
    "pwd()"
   ]
  },
  {
   "cell_type": "code",
   "execution_count": 3,
   "id": "3f7276f9",
   "metadata": {},
   "outputs": [],
   "source": [
    "f=open(\"test.txt\")"
   ]
  },
  {
   "cell_type": "code",
   "execution_count": 4,
   "id": "e9fe6c13",
   "metadata": {},
   "outputs": [
    {
     "data": {
      "text/plain": [
       "_io.TextIOWrapper"
      ]
     },
     "execution_count": 4,
     "metadata": {},
     "output_type": "execute_result"
    }
   ],
   "source": [
    "type(f)"
   ]
  },
  {
   "cell_type": "code",
   "execution_count": 5,
   "id": "30022232",
   "metadata": {},
   "outputs": [],
   "source": [
    "f.close()"
   ]
  },
  {
   "cell_type": "code",
   "execution_count": 6,
   "id": "388f98d6",
   "metadata": {},
   "outputs": [],
   "source": [
    "#f=open(r\"c:/user/admin/test.txt\",'r')"
   ]
  },
  {
   "cell_type": "code",
   "execution_count": 7,
   "id": "5432f10f",
   "metadata": {},
   "outputs": [],
   "source": [
    "# how to read a file"
   ]
  },
  {
   "cell_type": "code",
   "execution_count": 8,
   "id": "cc38c2d1",
   "metadata": {},
   "outputs": [],
   "source": [
    "f = open(\"test.txt\")"
   ]
  },
  {
   "cell_type": "code",
   "execution_count": 9,
   "id": "3440bf19",
   "metadata": {},
   "outputs": [
    {
     "data": {
      "text/plain": [
       "'i write code\\nfirst line\\nsecond line\\nthird\\nineuron\\nbdjgksf\\ndgvrfv\\nqdgwr'"
      ]
     },
     "execution_count": 9,
     "metadata": {},
     "output_type": "execute_result"
    }
   ],
   "source": [
    "f.read()"
   ]
  },
  {
   "cell_type": "code",
   "execution_count": 10,
   "id": "a07252f5",
   "metadata": {},
   "outputs": [
    {
     "data": {
      "text/plain": [
       "''"
      ]
     },
     "execution_count": 10,
     "metadata": {},
     "output_type": "execute_result"
    }
   ],
   "source": [
    "f.read()  # if we run this file double then it give a o/p like --> ''"
   ]
  },
  {
   "cell_type": "code",
   "execution_count": 11,
   "id": "c9e93c12",
   "metadata": {},
   "outputs": [
    {
     "data": {
      "text/plain": [
       "''"
      ]
     },
     "execution_count": 11,
     "metadata": {},
     "output_type": "execute_result"
    }
   ],
   "source": [
    "f.read(5)\n",
    "#this will read 5 data"
   ]
  },
  {
   "cell_type": "code",
   "execution_count": 12,
   "id": "32b2c621",
   "metadata": {},
   "outputs": [
    {
     "data": {
      "text/plain": [
       "''"
      ]
     },
     "execution_count": 12,
     "metadata": {},
     "output_type": "execute_result"
    }
   ],
   "source": [
    "f.read(9)"
   ]
  },
  {
   "cell_type": "code",
   "execution_count": 13,
   "id": "591203a0",
   "metadata": {},
   "outputs": [
    {
     "data": {
      "text/plain": [
       "70"
      ]
     },
     "execution_count": 13,
     "metadata": {},
     "output_type": "execute_result"
    }
   ],
   "source": [
    "f.tell()\n",
    "# get the current file position"
   ]
  },
  {
   "cell_type": "code",
   "execution_count": 14,
   "id": "80314ae0",
   "metadata": {},
   "outputs": [
    {
     "data": {
      "text/plain": [
       "0"
      ]
     },
     "execution_count": 14,
     "metadata": {},
     "output_type": "execute_result"
    }
   ],
   "source": [
    "f.seek(0)\n",
    "#initial position"
   ]
  },
  {
   "cell_type": "code",
   "execution_count": 15,
   "id": "5685b7b3",
   "metadata": {},
   "outputs": [],
   "source": [
    "try:\n",
    "    f=open(\"test.txt\")\n",
    "finally:\n",
    "    f.close()"
   ]
  },
  {
   "cell_type": "code",
   "execution_count": 16,
   "id": "4b5a256b",
   "metadata": {},
   "outputs": [],
   "source": [
    "with open(\"test.txt\") as f:\n",
    "    #file operation\n",
    "    f.read()\n",
    "    pass\n",
    "# with = the help of wee can automatically close the file"
   ]
  },
  {
   "cell_type": "code",
   "execution_count": 17,
   "id": "ca479be5",
   "metadata": {},
   "outputs": [],
   "source": [
    "# write a file "
   ]
  },
  {
   "cell_type": "code",
   "execution_count": 18,
   "id": "b5401e7d",
   "metadata": {},
   "outputs": [
    {
     "name": "stdout",
     "output_type": "stream",
     "text": [
      "done\n"
     ]
    }
   ],
   "source": [
    "data = \"ineuron\"\n",
    "f=open(\"test1.txt\",'w')\n",
    "f.write(data)\n",
    "print(\"done\")\n",
    "f.close( )"
   ]
  },
  {
   "cell_type": "code",
   "execution_count": 19,
   "id": "7416ea77",
   "metadata": {},
   "outputs": [],
   "source": [
    "with open(\"test2.txt\",'w') as f:\n",
    "    f.write(\"first line\\n\")\n",
    "    f.write(\"second line\")"
   ]
  },
  {
   "cell_type": "code",
   "execution_count": 20,
   "id": "624182b3",
   "metadata": {},
   "outputs": [
    {
     "name": "stdout",
     "output_type": "stream",
     "text": [
      "Enter the first number7\n",
      "Enter the second number0\n",
      "there is some issue with my code division by zero\n"
     ]
    }
   ],
   "source": [
    "try:\n",
    "    a=int(input(\"Enter the first number\"))\n",
    "    b=int(input(\"Enter the second number\"))\n",
    "    c=a/b\n",
    "except ArithmeticError as e:\n",
    "    print(\"there is some issue with my code\",e)\n",
    "    f=open(\"error.txt\",'w+')\n",
    "    f.write(\"hi\")\n",
    "    f.write(str(e))\n",
    "    f.read()\n",
    "else:\n",
    "    print(\"this will execute once try is success\")\n",
    "    try:\n",
    "        f=open(\"test3.txt\",'w')\n",
    "    except:\n",
    "        print(\"this is and issue with try block\")"
   ]
  },
  {
   "cell_type": "markdown",
   "id": "900580e2",
   "metadata": {},
   "source": [
    "r = open a file for reading\n",
    "\n",
    "\n",
    "w = it open a file for writing and it create a new file       if it does not exit or truncate the file if exit\n",
    "\n",
    "\n",
    "x = Opens a file for exclusive creation if the file           already exit operations\n",
    "\n",
    "a =  open a file for appending at the end of file\n",
    "\n",
    "\n",
    ".  + = open a file for updating (reading and writing)\n",
    "\n",
    "\n"
   ]
  },
  {
   "cell_type": "code",
   "execution_count": 22,
   "id": "738b42e6",
   "metadata": {},
   "outputs": [
    {
     "ename": "FileExistsError",
     "evalue": "[Errno 17] File exists: 'new.txt'",
     "output_type": "error",
     "traceback": [
      "\u001b[1;31m---------------------------------------------------------------------------\u001b[0m",
      "\u001b[1;31mFileExistsError\u001b[0m                           Traceback (most recent call last)",
      "Cell \u001b[1;32mIn[22], line 1\u001b[0m\n\u001b[1;32m----> 1\u001b[0m f \u001b[38;5;241m=\u001b[39m \u001b[38;5;28;43mopen\u001b[39;49m\u001b[43m(\u001b[49m\u001b[38;5;124;43m\"\u001b[39;49m\u001b[38;5;124;43mnew.txt\u001b[39;49m\u001b[38;5;124;43m\"\u001b[39;49m\u001b[43m,\u001b[49m\u001b[38;5;124;43m'\u001b[39;49m\u001b[38;5;124;43mx\u001b[39;49m\u001b[38;5;124;43m'\u001b[39;49m\u001b[43m)\u001b[49m\n",
      "File \u001b[1;32m~\\AppData\\Roaming\\Python\\Python311\\site-packages\\IPython\\core\\interactiveshell.py:284\u001b[0m, in \u001b[0;36m_modified_open\u001b[1;34m(file, *args, **kwargs)\u001b[0m\n\u001b[0;32m    277\u001b[0m \u001b[38;5;28;01mif\u001b[39;00m file \u001b[38;5;129;01min\u001b[39;00m {\u001b[38;5;241m0\u001b[39m, \u001b[38;5;241m1\u001b[39m, \u001b[38;5;241m2\u001b[39m}:\n\u001b[0;32m    278\u001b[0m     \u001b[38;5;28;01mraise\u001b[39;00m \u001b[38;5;167;01mValueError\u001b[39;00m(\n\u001b[0;32m    279\u001b[0m         \u001b[38;5;124mf\u001b[39m\u001b[38;5;124m\"\u001b[39m\u001b[38;5;124mIPython won\u001b[39m\u001b[38;5;124m'\u001b[39m\u001b[38;5;124mt let you open fd=\u001b[39m\u001b[38;5;132;01m{\u001b[39;00mfile\u001b[38;5;132;01m}\u001b[39;00m\u001b[38;5;124m by default \u001b[39m\u001b[38;5;124m\"\u001b[39m\n\u001b[0;32m    280\u001b[0m         \u001b[38;5;124m\"\u001b[39m\u001b[38;5;124mas it is likely to crash IPython. If you know what you are doing, \u001b[39m\u001b[38;5;124m\"\u001b[39m\n\u001b[0;32m    281\u001b[0m         \u001b[38;5;124m\"\u001b[39m\u001b[38;5;124myou can use builtins\u001b[39m\u001b[38;5;124m'\u001b[39m\u001b[38;5;124m open.\u001b[39m\u001b[38;5;124m\"\u001b[39m\n\u001b[0;32m    282\u001b[0m     )\n\u001b[1;32m--> 284\u001b[0m \u001b[38;5;28;01mreturn\u001b[39;00m \u001b[43mio_open\u001b[49m\u001b[43m(\u001b[49m\u001b[43mfile\u001b[49m\u001b[43m,\u001b[49m\u001b[43m \u001b[49m\u001b[38;5;241;43m*\u001b[39;49m\u001b[43margs\u001b[49m\u001b[43m,\u001b[49m\u001b[43m \u001b[49m\u001b[38;5;241;43m*\u001b[39;49m\u001b[38;5;241;43m*\u001b[39;49m\u001b[43mkwargs\u001b[49m\u001b[43m)\u001b[49m\n",
      "\u001b[1;31mFileExistsError\u001b[0m: [Errno 17] File exists: 'new.txt'"
     ]
    }
   ],
   "source": [
    "f = open(\"new.txt\",'x')"
   ]
  },
  {
   "cell_type": "code",
   "execution_count": null,
   "id": "dc684f55",
   "metadata": {},
   "outputs": [],
   "source": []
  }
 ],
 "metadata": {
  "kernelspec": {
   "display_name": "Python 3 (ipykernel)",
   "language": "python",
   "name": "python3"
  },
  "language_info": {
   "codemirror_mode": {
    "name": "ipython",
    "version": 3
   },
   "file_extension": ".py",
   "mimetype": "text/x-python",
   "name": "python",
   "nbconvert_exporter": "python",
   "pygments_lexer": "ipython3",
   "version": "3.11.5"
  }
 },
 "nbformat": 4,
 "nbformat_minor": 5
}
