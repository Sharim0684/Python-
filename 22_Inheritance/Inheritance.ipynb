{
 "cells": [
  {
   "cell_type": "markdown",
   "id": "89cf204d",
   "metadata": {},
   "source": [
    "# Single Inheritance"
   ]
  },
  {
   "cell_type": "code",
   "execution_count": 1,
   "id": "06801c6a",
   "metadata": {},
   "outputs": [],
   "source": [
    "class Parent:\n",
    "    def func1(self):\n",
    "        print(\"Hello from parent class\")\n",
    "\n",
    "class child(Parent):\n",
    "    def func2(self):\n",
    "        print(\"Hello child\")"
   ]
  },
  {
   "cell_type": "code",
   "execution_count": 2,
   "id": "3c069e6d",
   "metadata": {},
   "outputs": [],
   "source": [
    "test = child()\n"
   ]
  },
  {
   "cell_type": "code",
   "execution_count": 3,
   "id": "06801b74",
   "metadata": {},
   "outputs": [
    {
     "name": "stdout",
     "output_type": "stream",
     "text": [
      "Hello from parent class\n"
     ]
    }
   ],
   "source": [
    "test.func1()"
   ]
  },
  {
   "cell_type": "code",
   "execution_count": 4,
   "id": "8b9ec69b",
   "metadata": {},
   "outputs": [
    {
     "name": "stdout",
     "output_type": "stream",
     "text": [
      "Hello child\n"
     ]
    }
   ],
   "source": [
    "test.func2()"
   ]
  },
  {
   "cell_type": "code",
   "execution_count": 5,
   "id": "4777a6ac",
   "metadata": {},
   "outputs": [],
   "source": [
    "class Ineuron:\n",
    "    company_website = \"https//ineuron.ai\"\n",
    "    name = 'ineuron'\n",
    "    \n",
    "    def contact_details(self):\n",
    "        print(\"'Contact  us at'\",self.company_website)\n",
    "\n",
    "        \n",
    "class Datascience(Ineuron):\n",
    "    def __init__(self):\n",
    "        self.year_of_establishment = 2018\n",
    "    \n",
    "    def est_details(self):\n",
    "        print(\"est details\",self.name,self.year_of_establishment)"
   ]
  },
  {
   "cell_type": "code",
   "execution_count": 6,
   "id": "5d52d138",
   "metadata": {},
   "outputs": [],
   "source": [
    "ds = Datascience()\n"
   ]
  },
  {
   "cell_type": "code",
   "execution_count": 7,
   "id": "0ddc5f16",
   "metadata": {},
   "outputs": [
    {
     "name": "stdout",
     "output_type": "stream",
     "text": [
      "'Contact  us at' https//ineuron.ai\n"
     ]
    }
   ],
   "source": [
    "ds.contact_details()"
   ]
  },
  {
   "cell_type": "code",
   "execution_count": 8,
   "id": "7cd7a9a9",
   "metadata": {},
   "outputs": [
    {
     "data": {
      "text/plain": [
       "2018"
      ]
     },
     "execution_count": 8,
     "metadata": {},
     "output_type": "execute_result"
    }
   ],
   "source": [
    "ds.year_of_establishment"
   ]
  },
  {
   "cell_type": "code",
   "execution_count": null,
   "id": "5fa1a372",
   "metadata": {},
   "outputs": [],
   "source": []
  },
  {
   "cell_type": "markdown",
   "id": "050896a5",
   "metadata": {},
   "source": [
    "# Multiple Inheritance"
   ]
  },
  {
   "cell_type": "code",
   "execution_count": 9,
   "id": "fc67e60c",
   "metadata": {},
   "outputs": [],
   "source": [
    "class Parent1:\n",
    "    def func1(self):\n",
    "        print(\"Hello from parant1\")\n",
    "\n",
    "        \n",
    "class parent2:\n",
    "    def func2(self):\n",
    "        print(\"Hello from parent2\")\n",
    "        \n",
    "class child(Parent1,parent2):\n",
    "    def func3(self):\n",
    "        print(\"Hello child\")"
   ]
  },
  {
   "cell_type": "code",
   "execution_count": 10,
   "id": "c9a7f7d7",
   "metadata": {},
   "outputs": [],
   "source": [
    "test = child()"
   ]
  },
  {
   "cell_type": "code",
   "execution_count": 11,
   "id": "aabb0f21",
   "metadata": {},
   "outputs": [
    {
     "name": "stdout",
     "output_type": "stream",
     "text": [
      "Hello from parent2\n"
     ]
    }
   ],
   "source": [
    "test.func2()"
   ]
  },
  {
   "cell_type": "code",
   "execution_count": 12,
   "id": "4c3e8392",
   "metadata": {},
   "outputs": [
    {
     "name": "stdout",
     "output_type": "stream",
     "text": [
      "Hello from parant1\n"
     ]
    }
   ],
   "source": [
    "test.func1()"
   ]
  },
  {
   "cell_type": "code",
   "execution_count": null,
   "id": "d9c2ae1c",
   "metadata": {},
   "outputs": [],
   "source": []
  },
  {
   "cell_type": "code",
   "execution_count": 13,
   "id": "272891cf",
   "metadata": {},
   "outputs": [],
   "source": [
    "#parent class1\n",
    "class Batch_number:\n",
    "    barchnumber = \"\"\n",
    "    def __init__(self,a,b,c):\n",
    "        self.a = a\n",
    "        self.b = b\n",
    "        self.c = c\n",
    "    \n",
    "    def batch(self):\n",
    "        print(self.barchnumber)\n",
    "        \n",
    "#parent class 2\n",
    "\n",
    "class Course_name:\n",
    "    cname=\"\"\n",
    "    def course(self):\n",
    "        print(self.cname)\n",
    "        \n",
    "        \n",
    "#child class \n",
    "\n",
    "class Student(Batch_number,Course_name):\n",
    "    \n",
    "    def show(self):\n",
    "        print(\"Batch\",self.barchnumber)\n",
    "        print(\"Course\",self.cname)\n",
    "        \n",
    "        "
   ]
  },
  {
   "cell_type": "code",
   "execution_count": 14,
   "id": "a65934a4",
   "metadata": {},
   "outputs": [],
   "source": [
    "s1 = Student(4,5,6)"
   ]
  },
  {
   "cell_type": "code",
   "execution_count": 15,
   "id": "797eea03",
   "metadata": {},
   "outputs": [],
   "source": [
    "s1.barchnumber=\"2\""
   ]
  },
  {
   "cell_type": "code",
   "execution_count": 16,
   "id": "4e033cfa",
   "metadata": {},
   "outputs": [],
   "source": [
    "s1.cname=\"fsds\""
   ]
  },
  {
   "cell_type": "code",
   "execution_count": 17,
   "id": "bee5aef1",
   "metadata": {},
   "outputs": [
    {
     "name": "stdout",
     "output_type": "stream",
     "text": [
      "fsds\n"
     ]
    }
   ],
   "source": [
    "s1.course()"
   ]
  },
  {
   "cell_type": "code",
   "execution_count": 18,
   "id": "b84bea8f",
   "metadata": {},
   "outputs": [
    {
     "name": "stdout",
     "output_type": "stream",
     "text": [
      "Batch 2\n",
      "Course fsds\n"
     ]
    }
   ],
   "source": [
    "s1.show()"
   ]
  },
  {
   "cell_type": "code",
   "execution_count": 19,
   "id": "7641e7d2",
   "metadata": {},
   "outputs": [
    {
     "name": "stdout",
     "output_type": "stream",
     "text": [
      "2\n"
     ]
    }
   ],
   "source": [
    "s1.batch()"
   ]
  },
  {
   "cell_type": "code",
   "execution_count": 20,
   "id": "5b53c38c",
   "metadata": {},
   "outputs": [],
   "source": [
    "# multiple Inheritance\n",
    "\n",
    "#parent class 1\n",
    "class Person:\n",
    "    def func1(self):\n",
    "        print(\"Hello from Parent1\")\n",
    "    \n",
    "#Parent class 2\n",
    "class Company:\n",
    "    def func2(self):\n",
    "        print(\"Hello from parent2\")\n",
    "        \n",
    "# child class \n",
    "class Employee(Person,Company):\n",
    "    def func3(self):\n",
    "        print(\"Hello child\")"
   ]
  },
  {
   "cell_type": "code",
   "execution_count": 23,
   "id": "8538790b",
   "metadata": {},
   "outputs": [],
   "source": [
    " e1 = Employee()"
   ]
  },
  {
   "cell_type": "code",
   "execution_count": 24,
   "id": "8546ebbd",
   "metadata": {},
   "outputs": [
    {
     "name": "stdout",
     "output_type": "stream",
     "text": [
      "Hello from Parent1\n"
     ]
    }
   ],
   "source": [
    "e1.func1()"
   ]
  },
  {
   "cell_type": "code",
   "execution_count": 25,
   "id": "99bded14",
   "metadata": {},
   "outputs": [
    {
     "name": "stdout",
     "output_type": "stream",
     "text": [
      "Hello from parent2\n"
     ]
    }
   ],
   "source": [
    "e1.func2()"
   ]
  },
  {
   "cell_type": "code",
   "execution_count": null,
   "id": "b1be27e5",
   "metadata": {},
   "outputs": [],
   "source": []
  },
  {
   "cell_type": "markdown",
   "id": "161ba038",
   "metadata": {},
   "source": [
    "# Multilevel Inheritance"
   ]
  },
  {
   "cell_type": "code",
   "execution_count": 26,
   "id": "41527fb6",
   "metadata": {},
   "outputs": [],
   "source": [
    "class test1:\n",
    "    def a(self):\n",
    "        print(\"Inside test1....\")\n",
    "        \n",
    "class test2(test1):\n",
    "    def b(self):\n",
    "        print(\"Inside test2....\")\n",
    "        \n",
    "class test3(test2):\n",
    "    def c(self):\n",
    "        print(\"Inside test3.....\")\n",
    "        "
   ]
  },
  {
   "cell_type": "code",
   "execution_count": 27,
   "id": "12e16efa",
   "metadata": {},
   "outputs": [],
   "source": [
    "t1 = test3()"
   ]
  },
  {
   "cell_type": "code",
   "execution_count": 28,
   "id": "ce7b3403",
   "metadata": {},
   "outputs": [
    {
     "name": "stdout",
     "output_type": "stream",
     "text": [
      "Inside test1....\n"
     ]
    }
   ],
   "source": [
    "t1.a()"
   ]
  },
  {
   "cell_type": "code",
   "execution_count": 29,
   "id": "59aaed3d",
   "metadata": {},
   "outputs": [
    {
     "name": "stdout",
     "output_type": "stream",
     "text": [
      "Inside test2....\n"
     ]
    }
   ],
   "source": [
    "t1.b()"
   ]
  },
  {
   "cell_type": "code",
   "execution_count": 30,
   "id": "678ebb42",
   "metadata": {},
   "outputs": [
    {
     "name": "stdout",
     "output_type": "stream",
     "text": [
      "Inside test3.....\n"
     ]
    }
   ],
   "source": [
    "t1.c()"
   ]
  },
  {
   "cell_type": "code",
   "execution_count": 31,
   "id": "1aa5fddf",
   "metadata": {},
   "outputs": [],
   "source": [
    "class Vehicle:\n",
    "    def info(self):\n",
    "        print(\"Inside Vehical class\")\n",
    "        \n",
    "        \n",
    "class Car(Vehicle):\n",
    "    def car_info(self):\n",
    "        print(\"Inside car class\")\n",
    "        \n",
    "        \n",
    "class Sportcar(Car):\n",
    "    def sportcar(self):\n",
    "        print(\"Inside sports car\")"
   ]
  },
  {
   "cell_type": "code",
   "execution_count": 32,
   "id": "ac18b235",
   "metadata": {},
   "outputs": [],
   "source": [
    "s1=Sportcar()"
   ]
  },
  {
   "cell_type": "code",
   "execution_count": 33,
   "id": "5f06790f",
   "metadata": {},
   "outputs": [
    {
     "name": "stdout",
     "output_type": "stream",
     "text": [
      "Inside car class\n"
     ]
    }
   ],
   "source": [
    "s1.car_info()"
   ]
  },
  {
   "cell_type": "code",
   "execution_count": null,
   "id": "68458088",
   "metadata": {},
   "outputs": [],
   "source": []
  },
  {
   "cell_type": "code",
   "execution_count": 40,
   "id": "bb6b35be",
   "metadata": {},
   "outputs": [],
   "source": [
    "class Phones:\n",
    "    def __init__(self,brand,model,price):\n",
    "        self.brand = brand\n",
    "        self.model = model\n",
    "        self.price = price\n",
    "        \n",
    "    def specs(self):\n",
    "        return (\"brand\",self.brand,\"price\",self.price)\n",
    "    \n",
    "    def typeofphone(self):\n",
    "        if self.price < 25000:\n",
    "            return 'this is a Budget phone'\n",
    "        else:\n",
    "            return 'this is mid range phone'\n",
    "        \n",
    "        \n",
    "class Smartphone(Phones):\n",
    "    def __init__(self,brand,model,price,ram,storage):\n",
    "        super().__init__(brand,model,price)\n",
    "        self.ram = ram\n",
    "        self.storage = storage\n",
    "        \n",
    "        \n",
    "class Flashipphone(Smartphone):\n",
    "    def __init__(self,brand,model,price,ram,storage,frontcamera,backcamera,display):\n",
    "        super().__init__(brand,model,price,ram,storage)\n",
    "        self.frontcamera = frontcamera\n",
    "        self.backcamera = backcamera\n",
    "        self.display = display"
   ]
  },
  {
   "cell_type": "code",
   "execution_count": 41,
   "id": "499f5e0a",
   "metadata": {},
   "outputs": [],
   "source": [
    "p1 = Flashipphone('Samsung','s3',60000,128,60,'yes','yes','yes')"
   ]
  },
  {
   "cell_type": "code",
   "execution_count": 42,
   "id": "db2f9782",
   "metadata": {},
   "outputs": [
    {
     "data": {
      "text/plain": [
       "('brand', 'Samsung', 'price', 60000)"
      ]
     },
     "execution_count": 42,
     "metadata": {},
     "output_type": "execute_result"
    }
   ],
   "source": [
    "p1.specs()"
   ]
  },
  {
   "cell_type": "code",
   "execution_count": 43,
   "id": "348fe9f7",
   "metadata": {},
   "outputs": [
    {
     "data": {
      "text/plain": [
       "'this is mid range phone'"
      ]
     },
     "execution_count": 43,
     "metadata": {},
     "output_type": "execute_result"
    }
   ],
   "source": [
    "p1.typeofphone()"
   ]
  },
  {
   "cell_type": "code",
   "execution_count": 45,
   "id": "b4985ac3",
   "metadata": {},
   "outputs": [
    {
     "data": {
      "text/plain": [
       "'yes'"
      ]
     },
     "execution_count": 45,
     "metadata": {},
     "output_type": "execute_result"
    }
   ],
   "source": [
    "p1.backcamera"
   ]
  },
  {
   "cell_type": "code",
   "execution_count": 46,
   "id": "d92b761e",
   "metadata": {},
   "outputs": [
    {
     "data": {
      "text/plain": [
       "60000"
      ]
     },
     "execution_count": 46,
     "metadata": {},
     "output_type": "execute_result"
    }
   ],
   "source": [
    "p1.price"
   ]
  },
  {
   "cell_type": "code",
   "execution_count": null,
   "id": "3d1aae8d",
   "metadata": {},
   "outputs": [],
   "source": []
  },
  {
   "cell_type": "markdown",
   "id": "8964b82d",
   "metadata": {},
   "source": [
    "# Hierarchical Inheritance"
   ]
  },
  {
   "cell_type": "code",
   "execution_count": 70,
   "id": "4979c053",
   "metadata": {},
   "outputs": [],
   "source": [
    "class Vehicle:\n",
    "    def info(self):\n",
    "        print(\"this is Vehicle\")\n",
    "        \n",
    "        \n",
    "class Car(Vehicle):\n",
    "    def Car_info(self,name):\n",
    "        print(\"Car name \",name)\n",
    "        \n",
    "    \n",
    "class Truck(Vehicle):\n",
    "     def truck_info(self,name):\n",
    "            print(\"truck name \", name)"
   ]
  },
  {
   "cell_type": "code",
   "execution_count": 71,
   "id": "7f28ba7c",
   "metadata": {},
   "outputs": [],
   "source": [
    "s1= Car()"
   ]
  },
  {
   "cell_type": "code",
   "execution_count": 72,
   "id": "254d5276",
   "metadata": {},
   "outputs": [
    {
     "name": "stdout",
     "output_type": "stream",
     "text": [
      "this is Vehicle\n"
     ]
    }
   ],
   "source": [
    "s1.info()"
   ]
  },
  {
   "cell_type": "code",
   "execution_count": 73,
   "id": "b776a44d",
   "metadata": {},
   "outputs": [
    {
     "name": "stdout",
     "output_type": "stream",
     "text": [
      "Car name  adfe\n"
     ]
    }
   ],
   "source": [
    "s1.Car_info('adfe')"
   ]
  },
  {
   "cell_type": "code",
   "execution_count": 75,
   "id": "5db82910",
   "metadata": {},
   "outputs": [],
   "source": [
    " t1 = Truck()"
   ]
  },
  {
   "cell_type": "code",
   "execution_count": 76,
   "id": "476ed49a",
   "metadata": {},
   "outputs": [
    {
     "name": "stdout",
     "output_type": "stream",
     "text": [
      "this is Vehicle\n"
     ]
    }
   ],
   "source": [
    "t1.info()"
   ]
  },
  {
   "cell_type": "code",
   "execution_count": 77,
   "id": "38ef6dea",
   "metadata": {},
   "outputs": [
    {
     "name": "stdout",
     "output_type": "stream",
     "text": [
      "truck name  abcd\n"
     ]
    }
   ],
   "source": [
    "t1.truck_info('abcd')"
   ]
  },
  {
   "cell_type": "code",
   "execution_count": 64,
   "id": "26c63f74",
   "metadata": {},
   "outputs": [
    {
     "name": "stdout",
     "output_type": "stream",
     "text": [
      "truck name  afsw\n"
     ]
    }
   ],
   "source": [
    "t1.truck_info('afsw')"
   ]
  },
  {
   "cell_type": "code",
   "execution_count": null,
   "id": "36aa6829",
   "metadata": {},
   "outputs": [],
   "source": []
  },
  {
   "cell_type": "markdown",
   "id": "5ca27725",
   "metadata": {},
   "source": [
    "# Hybrid Inheritance"
   ]
  },
  {
   "cell_type": "code",
   "execution_count": 78,
   "id": "420fc889",
   "metadata": {},
   "outputs": [],
   "source": [
    "class Vehicle:\n",
    "    def info(self):\n",
    "        print(\"this is vehicle\")\n",
    "        \n",
    "        \n",
    "class Car(Vehicle):\n",
    "    def car_info(self,name):\n",
    "        print(\"car name\",name)\n",
    "        \n",
    "\n",
    "class Truck(Vehicle):\n",
    "    def truck_info(self,name):\n",
    "        print(\"truck name\", name)\n",
    "\n",
    "        \n",
    "class Sportscar(Car,Vehicle):\n",
    "    def sportscar(self):\n",
    "        print(\"inside from sports class\") "
   ]
  },
  {
   "cell_type": "code",
   "execution_count": 79,
   "id": "be6da13b",
   "metadata": {},
   "outputs": [],
   "source": [
    "d1 = Sportscar()"
   ]
  },
  {
   "cell_type": "code",
   "execution_count": 81,
   "id": "5a767a6b",
   "metadata": {},
   "outputs": [
    {
     "name": "stdout",
     "output_type": "stream",
     "text": [
      "car name Duster\n"
     ]
    }
   ],
   "source": [
    "d1.car_info('Duster')"
   ]
  },
  {
   "cell_type": "code",
   "execution_count": 82,
   "id": "98c5592c",
   "metadata": {},
   "outputs": [
    {
     "name": "stdout",
     "output_type": "stream",
     "text": [
      "this is vehicle\n"
     ]
    }
   ],
   "source": [
    "d1.info()"
   ]
  },
  {
   "cell_type": "code",
   "execution_count": 83,
   "id": "b600e3bd",
   "metadata": {},
   "outputs": [
    {
     "name": "stdout",
     "output_type": "stream",
     "text": [
      "inside from sports class\n"
     ]
    }
   ],
   "source": [
    "d1.sportscar()"
   ]
  },
  {
   "cell_type": "code",
   "execution_count": null,
   "id": "dd03dbc3",
   "metadata": {},
   "outputs": [],
   "source": []
  },
  {
   "cell_type": "markdown",
   "id": "7e99c884",
   "metadata": {},
   "source": [
    "# Super"
   ]
  },
  {
   "cell_type": "markdown",
   "id": "7cab3766",
   "metadata": {},
   "source": [
    "1. Super is used when we need to build classes(child class) that extend the functionality of privously build classes(parent class)\n",
    "2. Super function in python is used to access method of immediate parent class\n",
    "3. with the help of super we can access the parent class method/function"
   ]
  },
  {
   "cell_type": "code",
   "execution_count": 84,
   "id": "db3bb1fc",
   "metadata": {},
   "outputs": [],
   "source": [
    "class Company:\n",
    "     def company_name(self):\n",
    "            return 'ineuron'\n",
    "        \n",
    "        \n",
    "class Employee(Company):\n",
    "    def info(self):\n",
    "        c_name = super().company_name()\n",
    "        print(\"i work at \", c_name)\n",
    "        \n"
   ]
  },
  {
   "cell_type": "code",
   "execution_count": 85,
   "id": "af3b8969",
   "metadata": {},
   "outputs": [],
   "source": [
    "emp = Employee()"
   ]
  },
  {
   "cell_type": "code",
   "execution_count": 86,
   "id": "335f4002",
   "metadata": {},
   "outputs": [
    {
     "data": {
      "text/plain": [
       "'ineuron'"
      ]
     },
     "execution_count": 86,
     "metadata": {},
     "output_type": "execute_result"
    }
   ],
   "source": [
    "emp.company_name()"
   ]
  },
  {
   "cell_type": "code",
   "execution_count": 87,
   "id": "50782c22",
   "metadata": {},
   "outputs": [
    {
     "name": "stdout",
     "output_type": "stream",
     "text": [
      "i work at  ineuron\n"
     ]
    }
   ],
   "source": [
    "emp.info()"
   ]
  },
  {
   "cell_type": "markdown",
   "id": "7a44334a",
   "metadata": {},
   "source": [
    "when you initialized a child class in python you can call\n",
    "super().__init__() method this initilize the parent class object into child class"
   ]
  },
  {
   "cell_type": "code",
   "execution_count": 88,
   "id": "d3990f15",
   "metadata": {},
   "outputs": [],
   "source": [
    "class Parent:\n",
    "    def __init__(self,v1,v2):\n",
    "        self.v1 = v1\n",
    "        self.v2 = v2\n",
    "        \n",
    "        \n",
    "class child(Parent):\n",
    "    def __init__ (self,v1,v2,v3):\n",
    "        super().__init__(v1,v2)\n",
    "        self.v3 = v3"
   ]
  },
  {
   "cell_type": "code",
   "execution_count": 91,
   "id": "7e1499b6",
   "metadata": {},
   "outputs": [],
   "source": [
    "c1=child(2,3,4)"
   ]
  },
  {
   "cell_type": "markdown",
   "id": "b94e2a65",
   "metadata": {},
   "source": [
    "class classname(parentclass):\n",
    "    def method(self,arg):\n",
    "        super([classname--> that is child class name], [self].method(args)-->that is parent class method)"
   ]
  },
  {
   "cell_type": "code",
   "execution_count": 97,
   "id": "c8097906",
   "metadata": {},
   "outputs": [],
   "source": [
    "class Parent:\n",
    "    def __init__(self):\n",
    "        print(\"this is the parent class\")\n",
    "        \n",
    "class Parent1:\n",
    "    def __init__(self):\n",
    "        print(\"this is the parent1 class\")\n",
    "        \n",
    "\n",
    "class parent2:\n",
    "    def __init__(self):\n",
    "        print(\"this is the parent2 class\")\n",
    "        \n",
    "\n",
    "class child(parent2, Parent1 , Parent):\n",
    "    def __init__(self):\n",
    "        super(child,self).__init__()\n",
    "    "
   ]
  },
  {
   "cell_type": "code",
   "execution_count": 98,
   "id": "8526bb68",
   "metadata": {},
   "outputs": [
    {
     "name": "stdout",
     "output_type": "stream",
     "text": [
      "this is the parent2 class\n"
     ]
    }
   ],
   "source": [
    "t1 = child()"
   ]
  },
  {
   "cell_type": "code",
   "execution_count": null,
   "id": "01be8545",
   "metadata": {},
   "outputs": [],
   "source": []
  }
 ],
 "metadata": {
  "kernelspec": {
   "display_name": "Python 3 (ipykernel)",
   "language": "python",
   "name": "python3"
  },
  "language_info": {
   "codemirror_mode": {
    "name": "ipython",
    "version": 3
   },
   "file_extension": ".py",
   "mimetype": "text/x-python",
   "name": "python",
   "nbconvert_exporter": "python",
   "pygments_lexer": "ipython3",
   "version": "3.11.5"
  }
 },
 "nbformat": 4,
 "nbformat_minor": 5
}
