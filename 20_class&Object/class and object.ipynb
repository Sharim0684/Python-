{
 "cells": [
  {
   "cell_type": "code",
   "execution_count": 1,
   "id": "2468f259",
   "metadata": {},
   "outputs": [],
   "source": [
    "class Person:\n",
    "    def __init__(self,name,gender,profession):\n",
    "        self.name = name\n",
    "        self.gender = gender\n",
    "        self.profession = profession\n",
    "    \n",
    "    def show(self):\n",
    "        print('Name',self.name,'Gender',self.gender,'profession',self.profession)\n",
    "        \n",
    "    def work(self):\n",
    "        print(self.name,'Working as a ',self.profession)"
   ]
  },
  {
   "cell_type": "code",
   "execution_count": 3,
   "id": "746cd56c",
   "metadata": {},
   "outputs": [],
   "source": [
    "o1 = Person(\"sharim\",\"Male\",\"Engineer\")"
   ]
  },
  {
   "cell_type": "code",
   "execution_count": 4,
   "id": "abcb6548",
   "metadata": {},
   "outputs": [
    {
     "name": "stdout",
     "output_type": "stream",
     "text": [
      "Name sharim Gender Male profession Engineer\n"
     ]
    }
   ],
   "source": [
    "o1.show()"
   ]
  },
  {
   "cell_type": "code",
   "execution_count": 5,
   "id": "79af8aa0",
   "metadata": {},
   "outputs": [
    {
     "name": "stdout",
     "output_type": "stream",
     "text": [
      "sharim Working as a  Engineer\n"
     ]
    }
   ],
   "source": [
    "o1.work()"
   ]
  },
  {
   "cell_type": "code",
   "execution_count": 7,
   "id": "5b68096d",
   "metadata": {},
   "outputs": [],
   "source": [
    "o2 = Person(\"virat\",\"Male\",\"Engineer\")"
   ]
  },
  {
   "cell_type": "code",
   "execution_count": 8,
   "id": "7a91dcc0",
   "metadata": {},
   "outputs": [
    {
     "name": "stdout",
     "output_type": "stream",
     "text": [
      "Name virat Gender Male profession Engineer\n"
     ]
    }
   ],
   "source": [
    "o2.show()"
   ]
  },
  {
   "cell_type": "code",
   "execution_count": 9,
   "id": "d8493a28",
   "metadata": {},
   "outputs": [
    {
     "name": "stdout",
     "output_type": "stream",
     "text": [
      "virat Working as a  Engineer\n"
     ]
    }
   ],
   "source": [
    "o2.work()"
   ]
  },
  {
   "cell_type": "code",
   "execution_count": 10,
   "id": "c2ba0939",
   "metadata": {},
   "outputs": [],
   "source": [
    "class Emp:\n",
    "    \n",
    "    def __init__(self):\n",
    "        print(id(self))\n",
    "        self.age=25\n",
    "        self.name = \"Sharim\"\n",
    "        self.salary = 30000"
   ]
  },
  {
   "cell_type": "code",
   "execution_count": 12,
   "id": "36c79697",
   "metadata": {},
   "outputs": [
    {
     "name": "stdout",
     "output_type": "stream",
     "text": [
      "1606599448016\n"
     ]
    }
   ],
   "source": [
    "e1=Emp()"
   ]
  },
  {
   "cell_type": "code",
   "execution_count": 14,
   "id": "510a121f",
   "metadata": {},
   "outputs": [
    {
     "data": {
      "text/plain": [
       "30000"
      ]
     },
     "execution_count": 14,
     "metadata": {},
     "output_type": "execute_result"
    }
   ],
   "source": [
    "e1.salary"
   ]
  },
  {
   "cell_type": "code",
   "execution_count": 15,
   "id": "beebd3bc",
   "metadata": {},
   "outputs": [],
   "source": [
    "e1.weight=71"
   ]
  },
  {
   "cell_type": "code",
   "execution_count": 16,
   "id": "7c7d5958",
   "metadata": {},
   "outputs": [
    {
     "data": {
      "text/plain": [
       "71"
      ]
     },
     "execution_count": 16,
     "metadata": {},
     "output_type": "execute_result"
    }
   ],
   "source": [
    "e1.weight"
   ]
  },
  {
   "cell_type": "code",
   "execution_count": 18,
   "id": "a589fe03",
   "metadata": {},
   "outputs": [
    {
     "name": "stdout",
     "output_type": "stream",
     "text": [
      "44.0\n",
      "154.0\n"
     ]
    }
   ],
   "source": [
    "class circle:\n",
    "    \n",
    "    def __init__(self,radius):\n",
    "        self.radius = radius\n",
    "    \n",
    "    def Circumference(self):\n",
    "        return 2*(22/7)*self.radius\n",
    "    \n",
    "    def Area(self):\n",
    "        return (22/7)*self.radius*self.radius\n",
    "\n",
    "r = circle(7)\n",
    "print(r.Circumference())\n",
    "print(r.Area())"
   ]
  },
  {
   "cell_type": "code",
   "execution_count": null,
   "id": "a209ef78",
   "metadata": {},
   "outputs": [],
   "source": []
  }
 ],
 "metadata": {
  "kernelspec": {
   "display_name": "Python 3 (ipykernel)",
   "language": "python",
   "name": "python3"
  },
  "language_info": {
   "codemirror_mode": {
    "name": "ipython",
    "version": 3
   },
   "file_extension": ".py",
   "mimetype": "text/x-python",
   "name": "python",
   "nbconvert_exporter": "python",
   "pygments_lexer": "ipython3",
   "version": "3.11.5"
  }
 },
 "nbformat": 4,
 "nbformat_minor": 5
}
