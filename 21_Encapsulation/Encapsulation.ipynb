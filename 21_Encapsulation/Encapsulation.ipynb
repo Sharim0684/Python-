{
 "cells": [
  {
   "cell_type": "code",
   "execution_count": 1,
   "id": "a675a268",
   "metadata": {},
   "outputs": [],
   "source": [
    "class Car:\n",
    "    pass"
   ]
  },
  {
   "cell_type": "code",
   "execution_count": 2,
   "id": "84f53e24",
   "metadata": {},
   "outputs": [],
   "source": [
    "audi = Car()"
   ]
  },
  {
   "cell_type": "code",
   "execution_count": 3,
   "id": "0733a947",
   "metadata": {},
   "outputs": [],
   "source": [
    "audi.milage = 10\n",
    "audi.year = 2006\n",
    "audi.make = 345\n",
    "audi.model = \"abc\""
   ]
  },
  {
   "cell_type": "code",
   "execution_count": 4,
   "id": "34d7209d",
   "metadata": {
    "scrolled": true
   },
   "outputs": [
    {
     "data": {
      "text/plain": [
       "345"
      ]
     },
     "execution_count": 4,
     "metadata": {},
     "output_type": "execute_result"
    }
   ],
   "source": [
    "audi.make\n"
   ]
  },
  {
   "cell_type": "code",
   "execution_count": 5,
   "id": "d92207a3",
   "metadata": {},
   "outputs": [
    {
     "data": {
      "text/plain": [
       "2006"
      ]
     },
     "execution_count": 5,
     "metadata": {},
     "output_type": "execute_result"
    }
   ],
   "source": [
    "audi.year"
   ]
  },
  {
   "cell_type": "code",
   "execution_count": 6,
   "id": "e0998e41",
   "metadata": {},
   "outputs": [
    {
     "data": {
      "text/plain": [
       "10"
      ]
     },
     "execution_count": 6,
     "metadata": {},
     "output_type": "execute_result"
    }
   ],
   "source": [
    "audi.milage"
   ]
  },
  {
   "cell_type": "code",
   "execution_count": 7,
   "id": "4e8b7c1d",
   "metadata": {},
   "outputs": [
    {
     "data": {
      "text/plain": [
       "'abc'"
      ]
     },
     "execution_count": 7,
     "metadata": {},
     "output_type": "execute_result"
    }
   ],
   "source": [
    "audi.model"
   ]
  },
  {
   "cell_type": "code",
   "execution_count": 8,
   "id": "bc6e5f00",
   "metadata": {},
   "outputs": [],
   "source": [
    "nano = Car()"
   ]
  },
  {
   "cell_type": "code",
   "execution_count": 9,
   "id": "54ebe681",
   "metadata": {},
   "outputs": [],
   "source": [
    "nano.milage = 67\n",
    "nano.year = 2007\n",
    "nano.make = 58\n",
    "nano.model = \"xyz\""
   ]
  },
  {
   "cell_type": "code",
   "execution_count": 10,
   "id": "8d1a53f2",
   "metadata": {},
   "outputs": [
    {
     "data": {
      "text/plain": [
       "58"
      ]
     },
     "execution_count": 10,
     "metadata": {},
     "output_type": "execute_result"
    }
   ],
   "source": [
    "nano.make"
   ]
  },
  {
   "cell_type": "code",
   "execution_count": 11,
   "id": "faee76bb",
   "metadata": {},
   "outputs": [
    {
     "data": {
      "text/plain": [
       "67"
      ]
     },
     "execution_count": 11,
     "metadata": {},
     "output_type": "execute_result"
    }
   ],
   "source": [
    "nano.milage"
   ]
  },
  {
   "cell_type": "code",
   "execution_count": 12,
   "id": "067422e4",
   "metadata": {},
   "outputs": [
    {
     "data": {
      "text/plain": [
       "'xyz'"
      ]
     },
     "execution_count": 12,
     "metadata": {},
     "output_type": "execute_result"
    }
   ],
   "source": [
    "nano.model"
   ]
  },
  {
   "cell_type": "code",
   "execution_count": 13,
   "id": "ac91ffce",
   "metadata": {},
   "outputs": [
    {
     "data": {
      "text/plain": [
       "2007"
      ]
     },
     "execution_count": 13,
     "metadata": {},
     "output_type": "execute_result"
    }
   ],
   "source": [
    "nano.year"
   ]
  },
  {
   "cell_type": "code",
   "execution_count": 14,
   "id": "5a8db2bb",
   "metadata": {},
   "outputs": [],
   "source": [
    "class Car:\n",
    "    def __init__(self,milage,year,make,model):\n",
    "                 self.milage = milage\n",
    "                 self.year = year\n",
    "                 self.make = make\n",
    "                 self.model = model\n",
    "                 "
   ]
  },
  {
   "cell_type": "code",
   "execution_count": 15,
   "id": "a745017a",
   "metadata": {},
   "outputs": [],
   "source": [
    "nano1 = Car(10,2004,44,\"abccc\")\n",
    "nano2 = Car(10,2004,44,\"abccc\")\n",
    "nano3 = Car(10,2004,44,\"abccc\")\n",
    "nano4 = Car(10,2004,44,\"abccc\")\n",
    "nano5 = Car(10,2004,44,\"abccc\")\n",
    "nano6 = Car(10,2004,44,\"abccc\")"
   ]
  },
  {
   "cell_type": "code",
   "execution_count": 16,
   "id": "a9f4b08f",
   "metadata": {},
   "outputs": [],
   "source": [
    "class Car:\n",
    "    def __init__(self,m,y,ma,mo):\n",
    "        self.milage = m\n",
    "        self.year = y\n",
    "        self.make  = ma \n",
    "        self.model = mo \n",
    "     \n",
    "    def age(self,current_year):\n",
    "        return current_year-self.year\n",
    "    \n",
    "    def milage1(self):\n",
    "        print(\"Print a milage of the car\",self.milage)\n",
    "    \n",
    "    def __str__(self):   # used for memory instance if we call class name with the help of __str__ we can print some text\n",
    "        return \"this is from class i have created\""
   ]
  },
  {
   "cell_type": "code",
   "execution_count": 17,
   "id": "1b429f3f",
   "metadata": {},
   "outputs": [],
   "source": [
    "nano23=Car(10,2009,45,\"adcdg\")"
   ]
  },
  {
   "cell_type": "code",
   "execution_count": 18,
   "id": "6c928993",
   "metadata": {},
   "outputs": [
    {
     "data": {
      "text/plain": [
       "15"
      ]
     },
     "execution_count": 18,
     "metadata": {},
     "output_type": "execute_result"
    }
   ],
   "source": [
    "nano23.age(2024)"
   ]
  },
  {
   "cell_type": "code",
   "execution_count": 19,
   "id": "e6ce23d8",
   "metadata": {},
   "outputs": [
    {
     "name": "stdout",
     "output_type": "stream",
     "text": [
      "Print a milage of the car 10\n"
     ]
    }
   ],
   "source": [
    "nano23.milage1()"
   ]
  },
  {
   "cell_type": "code",
   "execution_count": 20,
   "id": "57e583f6",
   "metadata": {},
   "outputs": [
    {
     "name": "stdout",
     "output_type": "stream",
     "text": [
      "this is from class i have created\n"
     ]
    }
   ],
   "source": [
    "print(nano23)    # memory instance"
   ]
  },
  {
   "cell_type": "code",
   "execution_count": 21,
   "id": "f88fbd5c",
   "metadata": {},
   "outputs": [],
   "source": [
    "class Person:\n",
    "    def __init__(self,first_name, last_name,age):\n",
    "        self.first_name = first_name\n",
    "        self.last_name = last_name\n",
    "        self.age = age\n",
    "    \n",
    "    def __str__(self):\n",
    "        return \" this is the person class\""
   ]
  },
  {
   "cell_type": "code",
   "execution_count": 22,
   "id": "8bec8503",
   "metadata": {},
   "outputs": [],
   "source": [
    "person = Person(\"Sharim\",\"Shaikh\",22)"
   ]
  },
  {
   "cell_type": "code",
   "execution_count": 23,
   "id": "8818c635",
   "metadata": {},
   "outputs": [
    {
     "name": "stdout",
     "output_type": "stream",
     "text": [
      " this is the person class\n"
     ]
    }
   ],
   "source": [
    "print(person)"
   ]
  },
  {
   "cell_type": "code",
   "execution_count": 24,
   "id": "778d9962",
   "metadata": {},
   "outputs": [
    {
     "data": {
      "text/plain": [
       "'Sharim'"
      ]
     },
     "execution_count": 24,
     "metadata": {},
     "output_type": "execute_result"
    }
   ],
   "source": [
    "person.first_name"
   ]
  },
  {
   "cell_type": "code",
   "execution_count": 25,
   "id": "f2e1745d",
   "metadata": {},
   "outputs": [
    {
     "data": {
      "text/plain": [
       "'Shaikh'"
      ]
     },
     "execution_count": 25,
     "metadata": {},
     "output_type": "execute_result"
    }
   ],
   "source": [
    "person.last_name"
   ]
  },
  {
   "cell_type": "code",
   "execution_count": 26,
   "id": "6a3009c2",
   "metadata": {},
   "outputs": [
    {
     "data": {
      "text/plain": [
       "22"
      ]
     },
     "execution_count": 26,
     "metadata": {},
     "output_type": "execute_result"
    }
   ],
   "source": [
    "person.age"
   ]
  },
  {
   "cell_type": "code",
   "execution_count": 27,
   "id": "dc74b2cb",
   "metadata": {},
   "outputs": [],
   "source": [
    "class Student:\n",
    "    \n",
    "    def __init__(self,name,rollno,joining_date,current_topic):\n",
    "        self.name = name\n",
    "        self.rollno=rollno\n",
    "        self.joining_date = joining_date\n",
    "        self.current_topic = current_topic\n",
    "    \n",
    "    def Cur_topic(self):\n",
    "        print(\"Current topic discussed in class is \", self.current_topic)\n",
    "        \n",
    "    def str_rollno(self):\n",
    "        \n",
    "        try:\n",
    "            if type(self.rollno) == str:\n",
    "                print(\"Do nothing\")\n",
    "            else:\n",
    "                return str(self.rollno)\n",
    "        except Exception as e:\n",
    "            print(\"this is my error message\",e)\n",
    "    \n",
    "    def duration(self,current_date):\n",
    "        print (\"Duration of student in classes \",current_date - self.joining_date)\n",
    "    \n",
    "    def __str__(self):\n",
    "        return \"this is Student class\" "
   ]
  },
  {
   "cell_type": "code",
   "execution_count": 28,
   "id": "fee412b5",
   "metadata": {},
   "outputs": [],
   "source": [
    "s1 = Student(\"Sharim\",1322,2002,\"Data Science\")"
   ]
  },
  {
   "cell_type": "code",
   "execution_count": 29,
   "id": "b307ae9e",
   "metadata": {},
   "outputs": [
    {
     "name": "stdout",
     "output_type": "stream",
     "text": [
      "this is Student class\n"
     ]
    }
   ],
   "source": [
    "print(s1)"
   ]
  },
  {
   "cell_type": "code",
   "execution_count": 30,
   "id": "047da282",
   "metadata": {},
   "outputs": [
    {
     "data": {
      "text/plain": [
       "'Sharim'"
      ]
     },
     "execution_count": 30,
     "metadata": {},
     "output_type": "execute_result"
    }
   ],
   "source": [
    "s1.name"
   ]
  },
  {
   "cell_type": "code",
   "execution_count": 31,
   "id": "959f24e9",
   "metadata": {},
   "outputs": [
    {
     "name": "stdout",
     "output_type": "stream",
     "text": [
      "Duration of student in classes  2\n"
     ]
    }
   ],
   "source": [
    "s1.duration(2004)"
   ]
  },
  {
   "cell_type": "code",
   "execution_count": 32,
   "id": "de8b9dfe",
   "metadata": {},
   "outputs": [
    {
     "data": {
      "text/plain": [
       "'1322'"
      ]
     },
     "execution_count": 32,
     "metadata": {},
     "output_type": "execute_result"
    }
   ],
   "source": [
    "s1.str_rollno()"
   ]
  },
  {
   "cell_type": "code",
   "execution_count": 33,
   "id": "c2ab33e4",
   "metadata": {},
   "outputs": [
    {
     "data": {
      "text/plain": [
       "'Data Science'"
      ]
     },
     "execution_count": 33,
     "metadata": {},
     "output_type": "execute_result"
    }
   ],
   "source": [
    "s1.current_topic"
   ]
  },
  {
   "cell_type": "code",
   "execution_count": 34,
   "id": "87f62444",
   "metadata": {},
   "outputs": [
    {
     "name": "stdout",
     "output_type": "stream",
     "text": [
      "Current topic discussed in class is  Data Science\n"
     ]
    }
   ],
   "source": [
    "s1.Cur_topic()"
   ]
  },
  {
   "cell_type": "code",
   "execution_count": 35,
   "id": "686f5381",
   "metadata": {},
   "outputs": [],
   "source": [
    "class Calculator:\n",
    "    \n",
    "    def __init__(self,a,b):\n",
    "        self.a = a\n",
    "        self.b = b\n",
    "        \n",
    "    def sum(self):\n",
    "        return self.a + self.b\n",
    "    \n",
    "    def subtract(self):\n",
    "        return self.a - self.b\n",
    "    \n",
    "    def mul(self):\n",
    "        return self.a * self.b\n",
    "    \n",
    "    def div(self):\n",
    "        return self.a / self.b\n",
    "    \n",
    "    def __str__(self):\n",
    "        return \"This is a Calculator\""
   ]
  },
  {
   "cell_type": "code",
   "execution_count": 36,
   "id": "3adc8b08",
   "metadata": {},
   "outputs": [],
   "source": [
    "c=Calculator(8,4)"
   ]
  },
  {
   "cell_type": "code",
   "execution_count": 37,
   "id": "0eb854fd",
   "metadata": {},
   "outputs": [
    {
     "name": "stdout",
     "output_type": "stream",
     "text": [
      "12\n"
     ]
    }
   ],
   "source": [
    "print(c.sum())"
   ]
  },
  {
   "cell_type": "code",
   "execution_count": 38,
   "id": "8b3a44a3",
   "metadata": {},
   "outputs": [
    {
     "name": "stdout",
     "output_type": "stream",
     "text": [
      "4\n"
     ]
    }
   ],
   "source": [
    "print(c.subtract())"
   ]
  },
  {
   "cell_type": "code",
   "execution_count": 39,
   "id": "c76d237c",
   "metadata": {},
   "outputs": [
    {
     "name": "stdout",
     "output_type": "stream",
     "text": [
      "32\n"
     ]
    }
   ],
   "source": [
    "print(c.mul())"
   ]
  },
  {
   "cell_type": "code",
   "execution_count": 40,
   "id": "9f49b81a",
   "metadata": {},
   "outputs": [
    {
     "name": "stdout",
     "output_type": "stream",
     "text": [
      "2.0\n"
     ]
    }
   ],
   "source": [
    "print(c.div())"
   ]
  },
  {
   "cell_type": "code",
   "execution_count": 41,
   "id": "84433b27",
   "metadata": {},
   "outputs": [],
   "source": [
    "# Defaullt Constructor\n",
    "\n",
    "class Student:\n",
    "    \n",
    "    def who(self):\n",
    "        print(\"i am a student\")"
   ]
  },
  {
   "cell_type": "code",
   "execution_count": 42,
   "id": "7fab0033",
   "metadata": {},
   "outputs": [],
   "source": [
    "s1=Student()"
   ]
  },
  {
   "cell_type": "code",
   "execution_count": 43,
   "id": "9e059264",
   "metadata": {},
   "outputs": [
    {
     "name": "stdout",
     "output_type": "stream",
     "text": [
      "i am a student\n"
     ]
    }
   ],
   "source": [
    "s1.who()"
   ]
  },
  {
   "cell_type": "code",
   "execution_count": 44,
   "id": "a74d0ede",
   "metadata": {},
   "outputs": [],
   "source": [
    "# This is called as a Non parametized constructor\n",
    "class Company:\n",
    "    \n",
    "    def __init__(self): \n",
    "        self.name = \"Ineuron\"\n",
    "        self.address = \"Bangalore\"\n",
    "    \n",
    "    def show(self):\n",
    "        print(\"Name\",self.name, \"address\",self.address)\n",
    "        "
   ]
  },
  {
   "cell_type": "code",
   "execution_count": 45,
   "id": "fe5dd850",
   "metadata": {},
   "outputs": [],
   "source": [
    "cmp=Company()"
   ]
  },
  {
   "cell_type": "code",
   "execution_count": 46,
   "id": "9665e9d6",
   "metadata": {},
   "outputs": [
    {
     "name": "stdout",
     "output_type": "stream",
     "text": [
      "Name Ineuron address Bangalore\n"
     ]
    }
   ],
   "source": [
    "cmp.show()"
   ]
  },
  {
   "cell_type": "code",
   "execution_count": 47,
   "id": "9a372f9e",
   "metadata": {},
   "outputs": [],
   "source": [
    "#parametized Constructor"
   ]
  },
  {
   "cell_type": "code",
   "execution_count": 48,
   "id": "55ed9cf7",
   "metadata": {},
   "outputs": [],
   "source": [
    "#Encapsulation\n",
    "\n",
    "class Pub_mod:\n",
    "    \n",
    "    def __init__(self,name,age):\n",
    "        self.name = name\n",
    "        #self._name = name ---> In that  _ means it is a protected member ---> access within class and subclass\n",
    "        #self.__name = name ---> In that __means it is a private ---> access only within a class\n",
    "        self.age = age\n",
    "        \n",
    "    def age1(self):\n",
    "        print(\"age\",self.age)\n",
    "        \n",
    "     "
   ]
  },
  {
   "cell_type": "code",
   "execution_count": 49,
   "id": "683eb627",
   "metadata": {},
   "outputs": [],
   "source": [
    "c1=Pub_mod(\"Sharim\",22)"
   ]
  },
  {
   "cell_type": "code",
   "execution_count": 50,
   "id": "3dcb7d5d",
   "metadata": {},
   "outputs": [
    {
     "name": "stdout",
     "output_type": "stream",
     "text": [
      "age 22\n"
     ]
    }
   ],
   "source": [
    "c1.age1()"
   ]
  },
  {
   "cell_type": "code",
   "execution_count": 61,
   "id": "8e8a592f",
   "metadata": {},
   "outputs": [
    {
     "name": "stdout",
     "output_type": "stream",
     "text": [
      "5\n",
      "3\n",
      "5\n"
     ]
    },
    {
     "ename": "AttributeError",
     "evalue": "'Rectangle' object has no attribute '__bredth'",
     "output_type": "error",
     "traceback": [
      "\u001b[1;31m---------------------------------------------------------------------------\u001b[0m",
      "\u001b[1;31mAttributeError\u001b[0m                            Traceback (most recent call last)",
      "Cell \u001b[1;32mIn[61], line 18\u001b[0m\n\u001b[0;32m     16\u001b[0m rect \u001b[38;5;241m=\u001b[39m Rectangle()\n\u001b[0;32m     17\u001b[0m \u001b[38;5;28mprint\u001b[39m(rect\u001b[38;5;241m.\u001b[39mlength)\n\u001b[1;32m---> 18\u001b[0m \u001b[38;5;28mprint\u001b[39m(\u001b[43mrect\u001b[49m\u001b[38;5;241;43m.\u001b[39;49m\u001b[43m__bredth\u001b[49m)\n",
      "\u001b[1;31mAttributeError\u001b[0m: 'Rectangle' object has no attribute '__bredth'"
     ]
    }
   ],
   "source": [
    "class Rectangle:\n",
    "   # __length = 0\n",
    "   # __breadth = 0\n",
    "    \n",
    "    def __init__(self):\n",
    "        self.length=5\n",
    "        self.__breadth=3\n",
    "        \n",
    "        print(self.length)\n",
    "        print(self.__breadth)\n",
    "    \n",
    "    def show(self):\n",
    "        print(\"this is printing private variable\",self.__breadth)\n",
    "        \n",
    "\n",
    "rect = Rectangle()\n",
    "print(rect.length)\n",
    "print(rect.__bredth)"
   ]
  },
  {
   "cell_type": "code",
   "execution_count": 60,
   "id": "c238068c",
   "metadata": {},
   "outputs": [
    {
     "name": "stdout",
     "output_type": "stream",
     "text": [
      "this is printing private variable 3\n"
     ]
    }
   ],
   "source": [
    "rect.show()  # to access a private varible create a method show  "
   ]
  },
  {
   "cell_type": "code",
   "execution_count": 62,
   "id": "cbfa0d95",
   "metadata": {},
   "outputs": [
    {
     "data": {
      "text/plain": [
       "3"
      ]
     },
     "execution_count": 62,
     "metadata": {},
     "output_type": "execute_result"
    }
   ],
   "source": [
    "# to access a private varible outside the class the syntax is \n",
    "# Sytanx to access private and procted varible \n",
    "## this is for private ===> obejct_Name--> dot ---> single underscore --> class_Name--> varible name\n",
    "## this is for protected ===> obejct_Name--> dot --> varible name\n",
    "rect._Rectangle__breadth"
   ]
  },
  {
   "cell_type": "code",
   "execution_count": 66,
   "id": "d98a1ba9",
   "metadata": {},
   "outputs": [],
   "source": [
    "class test:\n",
    "    \n",
    "    def __init__(self):\n",
    "        self.a = 6\n",
    "        self._b = 5\n",
    "        self.__c = 8\n",
    "        \n",
    "        print(\"self\",self.a,\"protected\",self._b,\"private\",self.__c)"
   ]
  },
  {
   "cell_type": "code",
   "execution_count": 68,
   "id": "cba3b801",
   "metadata": {},
   "outputs": [
    {
     "name": "stdout",
     "output_type": "stream",
     "text": [
      "self 6 protected 5 private 8\n"
     ]
    }
   ],
   "source": [
    "t1=test()"
   ]
  },
  {
   "cell_type": "code",
   "execution_count": 69,
   "id": "af173672",
   "metadata": {},
   "outputs": [
    {
     "data": {
      "text/plain": [
       "6"
      ]
     },
     "execution_count": 69,
     "metadata": {},
     "output_type": "execute_result"
    }
   ],
   "source": [
    "t1.a"
   ]
  },
  {
   "cell_type": "code",
   "execution_count": 70,
   "id": "9ee2d7f8",
   "metadata": {},
   "outputs": [
    {
     "ename": "AttributeError",
     "evalue": "'test' object has no attribute 'b'",
     "output_type": "error",
     "traceback": [
      "\u001b[1;31m---------------------------------------------------------------------------\u001b[0m",
      "\u001b[1;31mAttributeError\u001b[0m                            Traceback (most recent call last)",
      "Cell \u001b[1;32mIn[70], line 1\u001b[0m\n\u001b[1;32m----> 1\u001b[0m \u001b[43mt1\u001b[49m\u001b[38;5;241;43m.\u001b[39;49m\u001b[43mb\u001b[49m\n",
      "\u001b[1;31mAttributeError\u001b[0m: 'test' object has no attribute 'b'"
     ]
    }
   ],
   "source": [
    "t1.b"
   ]
  },
  {
   "cell_type": "code",
   "execution_count": 71,
   "id": "1bfa0e81",
   "metadata": {},
   "outputs": [
    {
     "ename": "AttributeError",
     "evalue": "'test' object has no attribute 'c'",
     "output_type": "error",
     "traceback": [
      "\u001b[1;31m---------------------------------------------------------------------------\u001b[0m",
      "\u001b[1;31mAttributeError\u001b[0m                            Traceback (most recent call last)",
      "Cell \u001b[1;32mIn[71], line 1\u001b[0m\n\u001b[1;32m----> 1\u001b[0m \u001b[43mt1\u001b[49m\u001b[38;5;241;43m.\u001b[39;49m\u001b[43mc\u001b[49m\n",
      "\u001b[1;31mAttributeError\u001b[0m: 'test' object has no attribute 'c'"
     ]
    }
   ],
   "source": [
    "t1.c"
   ]
  },
  {
   "cell_type": "code",
   "execution_count": 77,
   "id": "132c3fbe",
   "metadata": {},
   "outputs": [],
   "source": [
    "class test:\n",
    "    \n",
    "    def __init__(self):\n",
    "        self.a = 6\n",
    "        self._b = 5\n",
    "        self.__c = 8\n",
    "        \n",
    "        print(\"public\",self.a,\"protected\",self._b,\"private\",self.__c)\n",
    "        \n",
    "    def show(self):\n",
    "        print(\"protected:\",self._b,\"private:\",self.__c)"
   ]
  },
  {
   "cell_type": "code",
   "execution_count": 78,
   "id": "59697774",
   "metadata": {},
   "outputs": [
    {
     "name": "stdout",
     "output_type": "stream",
     "text": [
      "public 6 protected 5 private 8\n"
     ]
    }
   ],
   "source": [
    "t2 = test()"
   ]
  },
  {
   "cell_type": "code",
   "execution_count": 79,
   "id": "654a7163",
   "metadata": {},
   "outputs": [
    {
     "name": "stdout",
     "output_type": "stream",
     "text": [
      "protected: 5 private: 8\n"
     ]
    }
   ],
   "source": [
    "# this is one way to accessing private and procted data\n",
    "t2.show() "
   ]
  },
  {
   "cell_type": "code",
   "execution_count": 82,
   "id": "3b19cf9e",
   "metadata": {
    "scrolled": true
   },
   "outputs": [
    {
     "data": {
      "text/plain": [
       "5"
      ]
     },
     "execution_count": 82,
     "metadata": {},
     "output_type": "execute_result"
    }
   ],
   "source": [
    "t2._b"
   ]
  },
  {
   "cell_type": "code",
   "execution_count": 86,
   "id": "15d29cd5",
   "metadata": {},
   "outputs": [
    {
     "data": {
      "text/plain": [
       "8"
      ]
     },
     "execution_count": 86,
     "metadata": {},
     "output_type": "execute_result"
    }
   ],
   "source": [
    "t2._test__c"
   ]
  },
  {
   "cell_type": "code",
   "execution_count": null,
   "id": "69ec2e22",
   "metadata": {},
   "outputs": [],
   "source": [
    "class Types:\n",
    "    def __init__(self,branch,)"
   ]
  }
 ],
 "metadata": {
  "kernelspec": {
   "display_name": "Python 3 (ipykernel)",
   "language": "python",
   "name": "python3"
  },
  "language_info": {
   "codemirror_mode": {
    "name": "ipython",
    "version": 3
   },
   "file_extension": ".py",
   "mimetype": "text/x-python",
   "name": "python",
   "nbconvert_exporter": "python",
   "pygments_lexer": "ipython3",
   "version": "3.11.5"
  }
 },
 "nbformat": 4,
 "nbformat_minor": 5
}
